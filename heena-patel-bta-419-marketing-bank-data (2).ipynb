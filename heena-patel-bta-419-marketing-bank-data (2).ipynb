{
 "cells": [
  {
   "cell_type": "code",
   "execution_count": 1,
   "id": "892990e9",
   "metadata": {
    "_cell_guid": "b1076dfc-b9ad-4769-8c92-a6c4dae69d19",
    "_uuid": "8f2839f25d086af736a60e9eeb907d3b93b6e0e5",
    "execution": {
     "iopub.execute_input": "2022-03-23T03:54:38.555535Z",
     "iopub.status.busy": "2022-03-23T03:54:38.554228Z",
     "iopub.status.idle": "2022-03-23T03:54:40.369384Z",
     "shell.execute_reply": "2022-03-23T03:54:40.369902Z",
     "shell.execute_reply.started": "2022-03-23T03:51:17.511199Z"
    },
    "papermill": {
     "duration": 1.875633,
     "end_time": "2022-03-23T03:54:40.370200",
     "exception": false,
     "start_time": "2022-03-23T03:54:38.494567",
     "status": "completed"
    },
    "tags": []
   },
   "outputs": [
    {
     "name": "stdout",
     "output_type": "stream",
     "text": [
      "/kaggle/input/bank-data-test/bank-additional-full-singlequotes-test.csv\n"
     ]
    }
   ],
   "source": [
    "# This Python 3 environment comes with many helpful analytics libraries installed\n",
    "# It is defined by the kaggle/python Docker image: https://github.com/kaggle/docker-python\n",
    "# For example, here's several helpful packages to load\n",
    "\n",
    "import numpy as np # linear algebra\n",
    "import pandas as pd # data processing, CSV file I/O (e.g. pd.read_csv)\n",
    "import matplotlib.pyplot as plt\n",
    "import seaborn as sns\n",
    "import math\n",
    "from scipy.stats import linregress\n",
    "import statsmodels.formula.api as smf\n",
    "import sklearn\n",
    "%matplotlib inline\n",
    "import warnings\n",
    "warnings.filterwarnings('ignore')\n",
    "sklearn.__version__\n",
    "from sklearn import metrics\n",
    "from sklearn.model_selection import train_test_split\n",
    "from sklearn.model_selection import GridSearchCV\n",
    "from sklearn.svm import SVC\n",
    "from sklearn import metrics\n",
    "from sklearn.metrics import confusion_matrix, classification_report\n",
    "from sklearn.model_selection import cross_val_score\n",
    "from sklearn.tree import DecisionTreeClassifier, plot_tree\n",
    "from sklearn.ensemble import RandomForestClassifier\n",
    "from sklearn.ensemble import AdaBoostClassifier\n",
    "from sklearn.ensemble import GradientBoostingClassifier\n",
    "from sklearn.naive_bayes import GaussianNB\n",
    "from sklearn.neighbors import KNeighborsClassifier\n",
    "from sklearn.model_selection import StratifiedKFold\n",
    "from sklearn.metrics import accuracy_score\n",
    "from sklearn import tree\n",
    "from sklearn import preprocessing\n",
    "from sklearn.decomposition import PCA\n",
    "from sklearn.preprocessing import StandardScaler\n",
    "from sklearn.linear_model import LogisticRegression\n",
    "from sklearn.pipeline import Pipeline\n",
    "from sklearn.ensemble import GradientBoostingClassifier\n",
    "from sklearn.metrics import roc_auc_score\n",
    "from sklearn.metrics import roc_curve\n",
    "from sklearn.metrics import precision_recall_curve\n",
    "from sklearn.metrics import auc\n",
    "from sklearn import metrics\n",
    "from sklearn.model_selection import train_test_split\n",
    "from sklearn.model_selection import GridSearchCV\n",
    "from sklearn.svm import SVC\n",
    "from sklearn import metrics\n",
    "from sklearn.metrics import confusion_matrix, classification_report\n",
    "from sklearn.model_selection import cross_val_score\n",
    "from sklearn.tree import DecisionTreeClassifier, plot_tree\n",
    "from sklearn.ensemble import RandomForestClassifier\n",
    "from sklearn.ensemble import AdaBoostClassifier\n",
    "from sklearn.ensemble import GradientBoostingClassifier\n",
    "from sklearn.naive_bayes import GaussianNB\n",
    "from sklearn.neighbors import KNeighborsClassifier\n",
    "from sklearn.model_selection import StratifiedKFold\n",
    "from sklearn.metrics import accuracy_score\n",
    "from sklearn import tree\n",
    "from sklearn import preprocessing\n",
    "from sklearn.decomposition import PCA\n",
    "from sklearn.preprocessing import StandardScaler\n",
    "from sklearn.linear_model import LogisticRegression\n",
    "from sklearn.pipeline import Pipeline\n",
    "from sklearn.ensemble import GradientBoostingClassifier\n",
    "from sklearn.metrics import roc_auc_score\n",
    "from sklearn.metrics import roc_curve\n",
    "from sklearn.metrics import precision_recall_curve\n",
    "from sklearn.metrics import auc\n",
    "from sklearn.preprocessing import LabelEncoder,MinMaxScaler,StandardScaler\n",
    "from sklearn.linear_model import LogisticRegression\n",
    "from sklearn.tree import DecisionTreeClassifier\n",
    "from sklearn.ensemble import GradientBoostingClassifier ,RandomForestClassifier ,GradientBoostingClassifier\n",
    "from xgboost import XGBClassifier \n",
    "from sklearn.model_selection import GridSearchCV, RandomizedSearchCV\n",
    "from sklearn.linear_model import Ridge,Lasso\n",
    "from sklearn.metrics import roc_auc_score ,mean_squared_error,accuracy_score,classification_report,roc_curve,confusion_matrix\n",
    "import warnings\n",
    "warnings.filterwarnings('ignore')\n",
    "from scipy.stats.mstats import winsorize\n",
    "from sklearn.feature_selection import RFE\n",
    "from sklearn.model_selection import train_test_split\n",
    "pd.set_option('display.max_columns',None)\n",
    "import six\n",
    "import sys\n",
    "sys.modules['sklearn.externals.six'] = six\n",
    "\n",
    "from sklearn.model_selection import train_test_split\n",
    "from sklearn.model_selection import KFold\n",
    "from sklearn.model_selection import cross_val_score\n",
    "from sklearn.metrics import confusion_matrix, accuracy_score\n",
    "from sklearn.utils import resample\n",
    "# Input data files are available in the read-only \"../input/\" directory\n",
    "# For example, running this (by clicking run or pressing Shift+Enter) will list all files under the input directory\n",
    "\n",
    "import os\n",
    "for dirname, _, filenames in os.walk('/kaggle/input'):\n",
    "    for filename in filenames:\n",
    "        print(os.path.join(dirname, filename))\n",
    "\n",
    "# You can write up to 20GB to the current directory (/kaggle/working/) that gets preserved as output when you create a version using \"Save & Run All\" \n",
    "# You can also write temporary files to /kaggle/temp/, but they won't be saved outside of the current session"
   ]
  },
  {
   "cell_type": "markdown",
   "id": "2491724d",
   "metadata": {
    "papermill": {
     "duration": 0.046067,
     "end_time": "2022-03-23T03:54:40.465816",
     "exception": false,
     "start_time": "2022-03-23T03:54:40.419749",
     "status": "completed"
    },
    "tags": []
   },
   "source": [
    "# Project: Marketing Analysis"
   ]
  },
  {
   "cell_type": "markdown",
   "id": "32392558",
   "metadata": {
    "papermill": {
     "duration": 0.04571,
     "end_time": "2022-03-23T03:54:40.557475",
     "exception": false,
     "start_time": "2022-03-23T03:54:40.511765",
     "status": "completed"
    },
    "tags": []
   },
   "source": [
    "Bank Marketing Abstract: The data is related with direct marketing campaigns (phone calls) of a Portuguese banking institution. The classification goal is to predict if the client will subscribe a term deposit (variable y).The overall problem we are tackling is that many banks want to know what type of customers would want to avail a campaign offer so that it will make them understand what type of users they should invest time into. We have set a baseline to first analyze the data through explanatory analysis, by explaining the data we set to analyze the problem statement by performing different classifiers, experimenting different ways to improve performance of those classifiers which can help in the prediction the campaign offers. The initial dataset is the banking dataset with 41188 rows and 21 features. \n",
    "\n",
    "Data Set Information: The data is related with direct marketing campaigns of a Portuguese banking institution. The marketing campaigns were based on phone calls. Often, more than one contact to the same client was required, in order to access if the product (bank term deposit) would be ('yes') or not ('no') subscribed.\n",
    "\n",
    "Source: Dataset from : http://archive.ics.uci.edu/ml/datasets/Bank+Marketing#"
   ]
  },
  {
   "cell_type": "markdown",
   "id": "ef5be6fc",
   "metadata": {
    "papermill": {
     "duration": 0.047844,
     "end_time": "2022-03-23T03:54:40.651943",
     "exception": false,
     "start_time": "2022-03-23T03:54:40.604099",
     "status": "completed"
    },
    "tags": []
   },
   "source": [
    "# Executive Summary Analysis report: \n",
    "I have grouping the age variable into different intervals of age groups and checking which interval age group subscribes more to term deposit.\n",
    "1. we can see our dataset is not balanced looking at the target variable. The number of negative class('no') is almost 8 times the positive class('yes').\n",
    "2. From the analysis we have predicted that young people are Millennials that who are currently between 25 and 40 years old are tending towards acceptance of    term deposits. \n",
    "3.From the scatter plot diagram we find out that the campiange was trageted mostly between 25 - 60 and most effective campaign run between 1 - 10 calls, so    if the calls are made for marketing the product more than 10 time and less than 1 it loss it effect on clients.\n",
    "4. From the boxplot we can predict that it is effective if you can spend time with client between 6 - 10mins to market the product. too less or too        long can be demotivating client to accept the product.\n",
    "\n",
    "***Machine learning prediction:***\n",
    "\n",
    "I have featured importance method for tree-based models( Decision tree and random forest). Decision tree classifiers tend to overfit very easily by memorizing the training data so to reduce the overfitting I chose random forest the analysis and prediction report is as below: \n",
    "\n",
    "5. False Positive In ROC curve of random classifier, means the client do NOT SUBSCRIBED to term deposit, but the model thinks he did.\n",
    "   False Negative, means the client SUBSCRIBED to term deposit, but the model said he dont.\n",
    "   My understanding about the analysis:\n",
    "   Poor Performance- because we think that we already have that client but we dont and maybe we lost him in other future campaings\n",
    "   Relatively Good -The second its not good but its ok, we have that client and in the future we'll discovery that in truth he's already our client\n",
    "6. For all NEGATIVE(0) PREDICTIONS by our model, how much we predict correct ? \n",
    "   other way to understand, our model pointed 6739 + 175 = 6914 clients that didin't subscribe(0), and our model predict 97% correct or 6739 correct and 175    incorrect.\n",
    "7. For all POSITIVE(1) PREDICTIONS by our model, how much we predict correct ?\n",
    "   other way to understand, our model pointed 365 + 1623 = 1988 clients that subscribe(1), and our model predict 82% correct or 253 correct and 116 incorrect\n",
    "\n",
    "Note:\n",
    "The ROC curve of a random classifier with the random performance level (as shown below) always shows a straight line. This random classifier ROC curve is considered to be the baseline for measuring the performance of a classifier. Two areas separated by this ROC curve indicates an estimation of the performance level—good or poor. \n",
    "ROC curves that fall under the area at the top-left corner indicate good performance levels, whereas ROC curves fall in the other area at the bottom-right corner indicate poor performance levels. An ROC curve of a perfect classifier is a combination of two straight lines both moving away from the baseline towards the top-left corner.\n",
    "Although the theoretical range of the AUC ROC curve score is between 0 and 1, the actual scores of meaningful classifiers are greater than 0.5, which is the AUC ROC curve score of a random classifier."
   ]
  },
  {
   "cell_type": "code",
   "execution_count": 2,
   "id": "bb04208e",
   "metadata": {
    "execution": {
     "iopub.execute_input": "2022-03-23T03:54:40.750524Z",
     "iopub.status.busy": "2022-03-23T03:54:40.749821Z",
     "iopub.status.idle": "2022-03-23T03:54:40.979056Z",
     "shell.execute_reply": "2022-03-23T03:54:40.979554Z",
     "shell.execute_reply.started": "2022-03-23T03:51:19.259701Z"
    },
    "papermill": {
     "duration": 0.281381,
     "end_time": "2022-03-23T03:54:40.979717",
     "exception": false,
     "start_time": "2022-03-23T03:54:40.698336",
     "status": "completed"
    },
    "tags": []
   },
   "outputs": [
    {
     "data": {
      "text/html": [
       "<div>\n",
       "<style scoped>\n",
       "    .dataframe tbody tr th:only-of-type {\n",
       "        vertical-align: middle;\n",
       "    }\n",
       "\n",
       "    .dataframe tbody tr th {\n",
       "        vertical-align: top;\n",
       "    }\n",
       "\n",
       "    .dataframe thead th {\n",
       "        text-align: right;\n",
       "    }\n",
       "</style>\n",
       "<table border=\"1\" class=\"dataframe\">\n",
       "  <thead>\n",
       "    <tr style=\"text-align: right;\">\n",
       "      <th></th>\n",
       "      <th>age</th>\n",
       "      <th>job</th>\n",
       "      <th>marital</th>\n",
       "      <th>education</th>\n",
       "      <th>default</th>\n",
       "      <th>housing</th>\n",
       "      <th>loan</th>\n",
       "      <th>contact</th>\n",
       "      <th>month</th>\n",
       "      <th>day_of_week</th>\n",
       "      <th>duration</th>\n",
       "      <th>campaign</th>\n",
       "      <th>pdays</th>\n",
       "      <th>previous</th>\n",
       "      <th>poutcome</th>\n",
       "      <th>emp.var.rate</th>\n",
       "      <th>cons.price.idx</th>\n",
       "      <th>cons.conf.idx</th>\n",
       "      <th>euribor3m</th>\n",
       "      <th>nr.employed</th>\n",
       "      <th>y</th>\n",
       "    </tr>\n",
       "  </thead>\n",
       "  <tbody>\n",
       "    <tr>\n",
       "      <th>0</th>\n",
       "      <td>56</td>\n",
       "      <td>housemaid</td>\n",
       "      <td>married</td>\n",
       "      <td>basic.4y</td>\n",
       "      <td>no</td>\n",
       "      <td>no</td>\n",
       "      <td>no</td>\n",
       "      <td>telephone</td>\n",
       "      <td>may</td>\n",
       "      <td>mon</td>\n",
       "      <td>261</td>\n",
       "      <td>1</td>\n",
       "      <td>999</td>\n",
       "      <td>0</td>\n",
       "      <td>nonexistent</td>\n",
       "      <td>1.1</td>\n",
       "      <td>93.994</td>\n",
       "      <td>-36.4</td>\n",
       "      <td>4.857</td>\n",
       "      <td>5191.0</td>\n",
       "      <td>no</td>\n",
       "    </tr>\n",
       "    <tr>\n",
       "      <th>1</th>\n",
       "      <td>57</td>\n",
       "      <td>services</td>\n",
       "      <td>married</td>\n",
       "      <td>high.school</td>\n",
       "      <td>unknown</td>\n",
       "      <td>no</td>\n",
       "      <td>no</td>\n",
       "      <td>telephone</td>\n",
       "      <td>may</td>\n",
       "      <td>mon</td>\n",
       "      <td>149</td>\n",
       "      <td>1</td>\n",
       "      <td>999</td>\n",
       "      <td>0</td>\n",
       "      <td>nonexistent</td>\n",
       "      <td>1.1</td>\n",
       "      <td>93.994</td>\n",
       "      <td>-36.4</td>\n",
       "      <td>4.857</td>\n",
       "      <td>5191.0</td>\n",
       "      <td>no</td>\n",
       "    </tr>\n",
       "    <tr>\n",
       "      <th>2</th>\n",
       "      <td>37</td>\n",
       "      <td>services</td>\n",
       "      <td>married</td>\n",
       "      <td>high.school</td>\n",
       "      <td>no</td>\n",
       "      <td>yes</td>\n",
       "      <td>no</td>\n",
       "      <td>telephone</td>\n",
       "      <td>may</td>\n",
       "      <td>mon</td>\n",
       "      <td>226</td>\n",
       "      <td>1</td>\n",
       "      <td>999</td>\n",
       "      <td>0</td>\n",
       "      <td>nonexistent</td>\n",
       "      <td>1.1</td>\n",
       "      <td>93.994</td>\n",
       "      <td>-36.4</td>\n",
       "      <td>4.857</td>\n",
       "      <td>5191.0</td>\n",
       "      <td>no</td>\n",
       "    </tr>\n",
       "    <tr>\n",
       "      <th>3</th>\n",
       "      <td>40</td>\n",
       "      <td>admin.</td>\n",
       "      <td>married</td>\n",
       "      <td>basic.6y</td>\n",
       "      <td>no</td>\n",
       "      <td>no</td>\n",
       "      <td>no</td>\n",
       "      <td>telephone</td>\n",
       "      <td>may</td>\n",
       "      <td>mon</td>\n",
       "      <td>151</td>\n",
       "      <td>1</td>\n",
       "      <td>999</td>\n",
       "      <td>0</td>\n",
       "      <td>nonexistent</td>\n",
       "      <td>1.1</td>\n",
       "      <td>93.994</td>\n",
       "      <td>-36.4</td>\n",
       "      <td>4.857</td>\n",
       "      <td>5191.0</td>\n",
       "      <td>no</td>\n",
       "    </tr>\n",
       "    <tr>\n",
       "      <th>4</th>\n",
       "      <td>56</td>\n",
       "      <td>services</td>\n",
       "      <td>married</td>\n",
       "      <td>high.school</td>\n",
       "      <td>no</td>\n",
       "      <td>no</td>\n",
       "      <td>yes</td>\n",
       "      <td>telephone</td>\n",
       "      <td>may</td>\n",
       "      <td>mon</td>\n",
       "      <td>307</td>\n",
       "      <td>1</td>\n",
       "      <td>999</td>\n",
       "      <td>0</td>\n",
       "      <td>nonexistent</td>\n",
       "      <td>1.1</td>\n",
       "      <td>93.994</td>\n",
       "      <td>-36.4</td>\n",
       "      <td>4.857</td>\n",
       "      <td>5191.0</td>\n",
       "      <td>no</td>\n",
       "    </tr>\n",
       "  </tbody>\n",
       "</table>\n",
       "</div>"
      ],
      "text/plain": [
       "   age        job  marital    education  default housing loan    contact  \\\n",
       "0   56  housemaid  married     basic.4y       no      no   no  telephone   \n",
       "1   57   services  married  high.school  unknown      no   no  telephone   \n",
       "2   37   services  married  high.school       no     yes   no  telephone   \n",
       "3   40     admin.  married     basic.6y       no      no   no  telephone   \n",
       "4   56   services  married  high.school       no      no  yes  telephone   \n",
       "\n",
       "  month day_of_week  duration  campaign  pdays  previous     poutcome  \\\n",
       "0   may         mon       261         1    999         0  nonexistent   \n",
       "1   may         mon       149         1    999         0  nonexistent   \n",
       "2   may         mon       226         1    999         0  nonexistent   \n",
       "3   may         mon       151         1    999         0  nonexistent   \n",
       "4   may         mon       307         1    999         0  nonexistent   \n",
       "\n",
       "   emp.var.rate  cons.price.idx  cons.conf.idx  euribor3m  nr.employed   y  \n",
       "0           1.1          93.994          -36.4      4.857       5191.0  no  \n",
       "1           1.1          93.994          -36.4      4.857       5191.0  no  \n",
       "2           1.1          93.994          -36.4      4.857       5191.0  no  \n",
       "3           1.1          93.994          -36.4      4.857       5191.0  no  \n",
       "4           1.1          93.994          -36.4      4.857       5191.0  no  "
      ]
     },
     "execution_count": 2,
     "metadata": {},
     "output_type": "execute_result"
    }
   ],
   "source": [
    "bank = pd.read_csv('/kaggle/input/bank-data-test/bank-additional-full-singlequotes-test.csv')\n",
    "#Converting dependent variable categorical to dummy\n",
    "y = pd.get_dummies(bank['y'], columns = ['y'], drop_first = True)\n",
    "yA = y\n",
    "#y = y.drop('yes', axis = 1)\n",
    "\n",
    "bank.head()"
   ]
  },
  {
   "cell_type": "code",
   "execution_count": 3,
   "id": "19559b48",
   "metadata": {
    "execution": {
     "iopub.execute_input": "2022-03-23T03:54:41.084900Z",
     "iopub.status.busy": "2022-03-23T03:54:41.083991Z",
     "iopub.status.idle": "2022-03-23T03:54:41.273022Z",
     "shell.execute_reply": "2022-03-23T03:54:41.272119Z",
     "shell.execute_reply.started": "2022-03-23T03:51:19.442321Z"
    },
    "papermill": {
     "duration": 0.246905,
     "end_time": "2022-03-23T03:54:41.273254",
     "exception": false,
     "start_time": "2022-03-23T03:54:41.026349",
     "status": "completed"
    },
    "tags": []
   },
   "outputs": [
    {
     "data": {
      "image/png": "[encoded data removed]",
      "text/plain": [
       "<Figure size 432x288 with 1 Axes>"
      ]
     },
     "metadata": {},
     "output_type": "display_data"
    }
   ],
   "source": [
    "# How many people(client) have subscribed to a term deposit? \n",
    "sns.set(font_scale=1.5)\n",
    "countplt=sns.countplot(x='y', data=bank, palette ='Set2')\n",
    "plt.show()"
   ]
  },
  {
   "cell_type": "markdown",
   "id": "b350987d",
   "metadata": {
    "papermill": {
     "duration": 0.046732,
     "end_time": "2022-03-23T03:54:41.382620",
     "exception": false,
     "start_time": "2022-03-23T03:54:41.335888",
     "status": "completed"
    },
    "tags": []
   },
   "source": [
    "# Finding\n",
    "we can see our dataset is not balanced looking at the target variable. The number of negative class('no') is almost 8 times the positive class('yes')."
   ]
  },
  {
   "cell_type": "code",
   "execution_count": 4,
   "id": "44904ad2",
   "metadata": {
    "execution": {
     "iopub.execute_input": "2022-03-23T03:54:41.488741Z",
     "iopub.status.busy": "2022-03-23T03:54:41.488095Z",
     "iopub.status.idle": "2022-03-23T03:54:41.492802Z",
     "shell.execute_reply": "2022-03-23T03:54:41.493303Z",
     "shell.execute_reply.started": "2022-03-23T03:51:19.608737Z"
    },
    "papermill": {
     "duration": 0.063726,
     "end_time": "2022-03-23T03:54:41.493480",
     "exception": false,
     "start_time": "2022-03-23T03:54:41.429754",
     "status": "completed"
    },
    "tags": []
   },
   "outputs": [
    {
     "data": {
      "text/plain": [
       "married     24928\n",
       "single      11568\n",
       "divorced     4612\n",
       "unknown        80\n",
       "Name: marital, dtype: int64"
      ]
     },
     "execution_count": 4,
     "metadata": {},
     "output_type": "execute_result"
    }
   ],
   "source": [
    "# count for which marital status are high in proportion: \n",
    "bank.marital.value_counts()"
   ]
  },
  {
   "cell_type": "code",
   "execution_count": 5,
   "id": "d9caee2d",
   "metadata": {
    "execution": {
     "iopub.execute_input": "2022-03-23T03:54:41.602128Z",
     "iopub.status.busy": "2022-03-23T03:54:41.598567Z",
     "iopub.status.idle": "2022-03-23T03:54:41.605276Z",
     "shell.execute_reply": "2022-03-23T03:54:41.605782Z",
     "shell.execute_reply.started": "2022-03-23T03:51:19.627395Z"
    },
    "papermill": {
     "duration": 0.065038,
     "end_time": "2022-03-23T03:54:41.605948",
     "exception": false,
     "start_time": "2022-03-23T03:54:41.540910",
     "status": "completed"
    },
    "tags": []
   },
   "outputs": [
    {
     "data": {
      "text/plain": [
       "married     0.605225\n",
       "single      0.280859\n",
       "divorced    0.111974\n",
       "unknown     0.001942\n",
       "Name: marital, dtype: float64"
      ]
     },
     "execution_count": 5,
     "metadata": {},
     "output_type": "execute_result"
    }
   ],
   "source": [
    "# Expressing counts as proportions: \n",
    "bank.marital.value_counts(normalize = True)"
   ]
  },
  {
   "cell_type": "code",
   "execution_count": 6,
   "id": "4317d1af",
   "metadata": {
    "execution": {
     "iopub.execute_input": "2022-03-23T03:54:41.705567Z",
     "iopub.status.busy": "2022-03-23T03:54:41.704864Z",
     "iopub.status.idle": "2022-03-23T03:54:41.944373Z",
     "shell.execute_reply": "2022-03-23T03:54:41.943842Z",
     "shell.execute_reply.started": "2022-03-23T03:51:19.645085Z"
    },
    "papermill": {
     "duration": 0.290446,
     "end_time": "2022-03-23T03:54:41.944529",
     "exception": false,
     "start_time": "2022-03-23T03:54:41.654083",
     "status": "completed"
    },
    "tags": []
   },
   "outputs": [
    {
     "data": {
      "image/png": "[encoded data removed]",
      "text/plain": [
       "<Figure size 432x288 with 1 Axes>"
      ]
     },
     "metadata": {},
     "output_type": "display_data"
    }
   ],
   "source": [
    "# Question: what age group were targeted for campaign and how many time campaign done to accept term deposit? \n",
    "age_jitter = bank.age + np.random.normal(0, 2, size = len(bank))\n",
    "campaign_jitter = bank.campaign + np.random.normal(0, 2, size = len(bank))\n",
    "plt.plot(age_jitter,campaign_jitter, 'o', markersize = 1, alpha = 0.02)\n",
    "plt.xlabel ('Age in years')\n",
    "plt.ylabel ('Number of Campaign')\n",
    "plt.show()"
   ]
  },
  {
   "cell_type": "markdown",
   "id": "f75ed3c4",
   "metadata": {
    "papermill": {
     "duration": 0.049369,
     "end_time": "2022-03-23T03:54:42.044043",
     "exception": false,
     "start_time": "2022-03-23T03:54:41.994674",
     "status": "completed"
    },
    "tags": []
   },
   "source": [
    "# Finding\n",
    "We can see that the campiange was trageted mostly between 25 - 60 and most effective campaign run between 1 - 10 so if the calls are made for marketing the product more than 10 time it loss it effect on clients. "
   ]
  },
  {
   "cell_type": "code",
   "execution_count": 7,
   "id": "d2280249",
   "metadata": {
    "execution": {
     "iopub.execute_input": "2022-03-23T03:54:42.166379Z",
     "iopub.status.busy": "2022-03-23T03:54:42.165716Z",
     "iopub.status.idle": "2022-03-23T03:54:42.706095Z",
     "shell.execute_reply": "2022-03-23T03:54:42.705427Z",
     "shell.execute_reply.started": "2022-03-23T03:51:19.872347Z"
    },
    "papermill": {
     "duration": 0.612363,
     "end_time": "2022-03-23T03:54:42.706235",
     "exception": false,
     "start_time": "2022-03-23T03:54:42.093872",
     "status": "completed"
    },
    "tags": []
   },
   "outputs": [
    {
     "data": {
      "image/png": "[encoded data removed]",
      "text/plain": [
       "<Figure size 432x288 with 1 Axes>"
      ]
     },
     "metadata": {},
     "output_type": "display_data"
    }
   ],
   "source": [
    "#Distribution plot for age column to see which age group have subscribe the term deposit\n",
    "sns.distplot(bank['age'], color = 'orange')\n",
    "plt.title('Customer Age Distribution', fontsize = 18)\n",
    "plt.xlabel('Age', fontsize = 10)\n",
    "plt.ylabel('count')\n",
    "plt.show()"
   ]
  },
  {
   "cell_type": "markdown",
   "id": "7793f34e",
   "metadata": {
    "papermill": {
     "duration": 0.050766,
     "end_time": "2022-03-23T03:54:42.808831",
     "exception": false,
     "start_time": "2022-03-23T03:54:42.758065",
     "status": "completed"
    },
    "tags": []
   },
   "source": [
    "# Finding\n",
    "By looking at the propotion tables and above histogram we see that the married between age 25 and 55  years old people are more likely to subscribed for term deposit."
   ]
  },
  {
   "cell_type": "code",
   "execution_count": 8,
   "id": "2488f8cf",
   "metadata": {
    "execution": {
     "iopub.execute_input": "2022-03-23T03:54:42.918738Z",
     "iopub.status.busy": "2022-03-23T03:54:42.918085Z",
     "iopub.status.idle": "2022-03-23T03:54:43.211938Z",
     "shell.execute_reply": "2022-03-23T03:54:43.212393Z",
     "shell.execute_reply.started": "2022-03-23T03:51:20.403173Z"
    },
    "papermill": {
     "duration": 0.351616,
     "end_time": "2022-03-23T03:54:43.212571",
     "exception": false,
     "start_time": "2022-03-23T03:54:42.860955",
     "status": "completed"
    },
    "tags": []
   },
   "outputs": [
    {
     "data": {
      "text/plain": [
       "<AxesSubplot:title={'center':'duration'}, xlabel='[y]'>"
      ]
     },
     "execution_count": 8,
     "metadata": {},
     "output_type": "execute_result"
    },
    {
     "data": {
      "image/png": "[encoded data removed]",
      "text/plain": [
       "<Figure size 432x432 with 1 Axes>"
      ]
     },
     "metadata": {},
     "output_type": "display_data"
    }
   ],
   "source": [
    "#Relationship between duration and decision to sign up for the term deposit\n",
    "bank[['duration', 'y']].boxplot(by=['y'], sym ='', figsize = [6, 6])"
   ]
  },
  {
   "cell_type": "markdown",
   "id": "6ea806b4",
   "metadata": {
    "papermill": {
     "duration": 0.053221,
     "end_time": "2022-03-23T03:54:43.318661",
     "exception": false,
     "start_time": "2022-03-23T03:54:43.265440",
     "status": "completed"
    },
    "tags": []
   },
   "source": [
    "# finding ( please note that duration is in seconds) \n",
    "From the above boxplot we can predict that it is effective if you can spend time with client between 6 - 10mins to market the product. too less or too long can be demotivating client to accept the product. "
   ]
  },
  {
   "cell_type": "markdown",
   "id": "cfaffe87",
   "metadata": {
    "papermill": {
     "duration": 0.052255,
     "end_time": "2022-03-23T03:54:43.424011",
     "exception": false,
     "start_time": "2022-03-23T03:54:43.371756",
     "status": "completed"
    },
    "tags": []
   },
   "source": [
    "# Spliting data for Classification "
   ]
  },
  {
   "cell_type": "code",
   "execution_count": 9,
   "id": "ad24adfe",
   "metadata": {
    "execution": {
     "iopub.execute_input": "2022-03-23T03:54:43.533225Z",
     "iopub.status.busy": "2022-03-23T03:54:43.532627Z",
     "iopub.status.idle": "2022-03-23T03:54:43.547527Z",
     "shell.execute_reply": "2022-03-23T03:54:43.548039Z",
     "shell.execute_reply.started": "2022-03-23T03:51:20.663947Z"
    },
    "papermill": {
     "duration": 0.071122,
     "end_time": "2022-03-23T03:54:43.548209",
     "exception": false,
     "start_time": "2022-03-23T03:54:43.477087",
     "status": "completed"
    },
    "tags": []
   },
   "outputs": [
    {
     "data": {
      "text/html": [
       "<div>\n",
       "<style scoped>\n",
       "    .dataframe tbody tr th:only-of-type {\n",
       "        vertical-align: middle;\n",
       "    }\n",
       "\n",
       "    .dataframe tbody tr th {\n",
       "        vertical-align: top;\n",
       "    }\n",
       "\n",
       "    .dataframe thead th {\n",
       "        text-align: right;\n",
       "    }\n",
       "</style>\n",
       "<table border=\"1\" class=\"dataframe\">\n",
       "  <thead>\n",
       "    <tr style=\"text-align: right;\">\n",
       "      <th></th>\n",
       "      <th>age</th>\n",
       "      <th>job</th>\n",
       "      <th>marital</th>\n",
       "      <th>education</th>\n",
       "      <th>default</th>\n",
       "      <th>housing</th>\n",
       "      <th>loan</th>\n",
       "    </tr>\n",
       "  </thead>\n",
       "  <tbody>\n",
       "    <tr>\n",
       "      <th>0</th>\n",
       "      <td>56</td>\n",
       "      <td>housemaid</td>\n",
       "      <td>married</td>\n",
       "      <td>basic.4y</td>\n",
       "      <td>no</td>\n",
       "      <td>no</td>\n",
       "      <td>no</td>\n",
       "    </tr>\n",
       "    <tr>\n",
       "      <th>1</th>\n",
       "      <td>57</td>\n",
       "      <td>services</td>\n",
       "      <td>married</td>\n",
       "      <td>high.school</td>\n",
       "      <td>unknown</td>\n",
       "      <td>no</td>\n",
       "      <td>no</td>\n",
       "    </tr>\n",
       "    <tr>\n",
       "      <th>2</th>\n",
       "      <td>37</td>\n",
       "      <td>services</td>\n",
       "      <td>married</td>\n",
       "      <td>high.school</td>\n",
       "      <td>no</td>\n",
       "      <td>yes</td>\n",
       "      <td>no</td>\n",
       "    </tr>\n",
       "    <tr>\n",
       "      <th>3</th>\n",
       "      <td>40</td>\n",
       "      <td>admin.</td>\n",
       "      <td>married</td>\n",
       "      <td>basic.6y</td>\n",
       "      <td>no</td>\n",
       "      <td>no</td>\n",
       "      <td>no</td>\n",
       "    </tr>\n",
       "    <tr>\n",
       "      <th>4</th>\n",
       "      <td>56</td>\n",
       "      <td>services</td>\n",
       "      <td>married</td>\n",
       "      <td>high.school</td>\n",
       "      <td>no</td>\n",
       "      <td>no</td>\n",
       "      <td>yes</td>\n",
       "    </tr>\n",
       "  </tbody>\n",
       "</table>\n",
       "</div>"
      ],
      "text/plain": [
       "   age        job  marital    education  default housing loan\n",
       "0   56  housemaid  married     basic.4y       no      no   no\n",
       "1   57   services  married  high.school  unknown      no   no\n",
       "2   37   services  married  high.school       no     yes   no\n",
       "3   40     admin.  married     basic.6y       no      no   no\n",
       "4   56   services  married  high.school       no      no  yes"
      ]
     },
     "execution_count": 9,
     "metadata": {},
     "output_type": "execute_result"
    }
   ],
   "source": [
    "# Bank client data Analysis and Categorical Variables\n",
    "bank_client = bank.iloc[: , 0:7]\n",
    "bank_client.head()"
   ]
  },
  {
   "cell_type": "code",
   "execution_count": 10,
   "id": "75626381",
   "metadata": {
    "execution": {
     "iopub.execute_input": "2022-03-23T03:54:43.660507Z",
     "iopub.status.busy": "2022-03-23T03:54:43.659819Z",
     "iopub.status.idle": "2022-03-23T03:54:43.746659Z",
     "shell.execute_reply": "2022-03-23T03:54:43.745975Z",
     "shell.execute_reply.started": "2022-03-23T03:51:20.681291Z"
    },
    "papermill": {
     "duration": 0.144551,
     "end_time": "2022-03-23T03:54:43.746800",
     "exception": false,
     "start_time": "2022-03-23T03:54:43.602249",
     "status": "completed"
    },
    "tags": []
   },
   "outputs": [],
   "source": [
    "# CONVERT COLUMNS TO CONTINUOUS\n",
    "# Label encoder order is alphabetical\n",
    "from sklearn.preprocessing import LabelEncoder\n",
    "labelencoder_X = LabelEncoder()\n",
    "bank_client['job']      = labelencoder_X.fit_transform(bank_client['job']) \n",
    "bank_client['marital']  = labelencoder_X.fit_transform(bank_client['marital']) \n",
    "bank_client['education']= labelencoder_X.fit_transform(bank_client['education']) \n",
    "bank_client['default']  = labelencoder_X.fit_transform(bank_client['default']) \n",
    "bank_client['housing']  = labelencoder_X.fit_transform(bank_client['housing']) \n",
    "bank_client['loan']     = labelencoder_X.fit_transform(bank_client['loan']) "
   ]
  },
  {
   "cell_type": "code",
   "execution_count": 11,
   "id": "aca95831",
   "metadata": {
    "execution": {
     "iopub.execute_input": "2022-03-23T03:54:43.857848Z",
     "iopub.status.busy": "2022-03-23T03:54:43.856829Z",
     "iopub.status.idle": "2022-03-23T03:54:43.868976Z",
     "shell.execute_reply": "2022-03-23T03:54:43.869483Z",
     "shell.execute_reply.started": "2022-03-23T03:51:20.758671Z"
    },
    "papermill": {
     "duration": 0.069327,
     "end_time": "2022-03-23T03:54:43.869652",
     "exception": false,
     "start_time": "2022-03-23T03:54:43.800325",
     "status": "completed"
    },
    "tags": []
   },
   "outputs": [],
   "source": [
    "#function to creat group of ages, this helps because we have 78 differente values here\n",
    "def age(dataframe):\n",
    "    dataframe.loc[dataframe['age'] <= 32, 'age'] = 1\n",
    "    dataframe.loc[(dataframe['age'] > 32) & (dataframe['age'] <= 47), 'age'] = 2\n",
    "    dataframe.loc[(dataframe['age'] > 47) & (dataframe['age'] <= 70), 'age'] = 3\n",
    "    dataframe.loc[(dataframe['age'] > 70) & (dataframe['age'] <= 98), 'age'] = 4\n",
    "           \n",
    "    return dataframe\n",
    "\n",
    "age(bank_client);"
   ]
  },
  {
   "cell_type": "code",
   "execution_count": 12,
   "id": "846cdb6a",
   "metadata": {
    "execution": {
     "iopub.execute_input": "2022-03-23T03:54:43.981971Z",
     "iopub.status.busy": "2022-03-23T03:54:43.981261Z",
     "iopub.status.idle": "2022-03-23T03:54:43.988173Z",
     "shell.execute_reply": "2022-03-23T03:54:43.988781Z",
     "shell.execute_reply.started": "2022-03-23T03:51:20.774616Z"
    },
    "papermill": {
     "duration": 0.066158,
     "end_time": "2022-03-23T03:54:43.988943",
     "exception": false,
     "start_time": "2022-03-23T03:54:43.922785",
     "status": "completed"
    },
    "tags": []
   },
   "outputs": [
    {
     "data": {
      "text/html": [
       "<div>\n",
       "<style scoped>\n",
       "    .dataframe tbody tr th:only-of-type {\n",
       "        vertical-align: middle;\n",
       "    }\n",
       "\n",
       "    .dataframe tbody tr th {\n",
       "        vertical-align: top;\n",
       "    }\n",
       "\n",
       "    .dataframe thead th {\n",
       "        text-align: right;\n",
       "    }\n",
       "</style>\n",
       "<table border=\"1\" class=\"dataframe\">\n",
       "  <thead>\n",
       "    <tr style=\"text-align: right;\">\n",
       "      <th></th>\n",
       "      <th>age</th>\n",
       "      <th>job</th>\n",
       "      <th>marital</th>\n",
       "      <th>education</th>\n",
       "      <th>default</th>\n",
       "      <th>housing</th>\n",
       "      <th>loan</th>\n",
       "    </tr>\n",
       "  </thead>\n",
       "  <tbody>\n",
       "    <tr>\n",
       "      <th>0</th>\n",
       "      <td>3</td>\n",
       "      <td>3</td>\n",
       "      <td>1</td>\n",
       "      <td>0</td>\n",
       "      <td>0</td>\n",
       "      <td>0</td>\n",
       "      <td>0</td>\n",
       "    </tr>\n",
       "    <tr>\n",
       "      <th>1</th>\n",
       "      <td>3</td>\n",
       "      <td>7</td>\n",
       "      <td>1</td>\n",
       "      <td>3</td>\n",
       "      <td>1</td>\n",
       "      <td>0</td>\n",
       "      <td>0</td>\n",
       "    </tr>\n",
       "    <tr>\n",
       "      <th>2</th>\n",
       "      <td>2</td>\n",
       "      <td>7</td>\n",
       "      <td>1</td>\n",
       "      <td>3</td>\n",
       "      <td>0</td>\n",
       "      <td>2</td>\n",
       "      <td>0</td>\n",
       "    </tr>\n",
       "    <tr>\n",
       "      <th>3</th>\n",
       "      <td>2</td>\n",
       "      <td>0</td>\n",
       "      <td>1</td>\n",
       "      <td>1</td>\n",
       "      <td>0</td>\n",
       "      <td>0</td>\n",
       "      <td>0</td>\n",
       "    </tr>\n",
       "    <tr>\n",
       "      <th>4</th>\n",
       "      <td>3</td>\n",
       "      <td>7</td>\n",
       "      <td>1</td>\n",
       "      <td>3</td>\n",
       "      <td>0</td>\n",
       "      <td>0</td>\n",
       "      <td>2</td>\n",
       "    </tr>\n",
       "  </tbody>\n",
       "</table>\n",
       "</div>"
      ],
      "text/plain": [
       "   age  job  marital  education  default  housing  loan\n",
       "0    3    3        1          0        0        0     0\n",
       "1    3    7        1          3        1        0     0\n",
       "2    2    7        1          3        0        2     0\n",
       "3    2    0        1          1        0        0     0\n",
       "4    3    7        1          3        0        0     2"
      ]
     },
     "execution_count": 12,
     "metadata": {},
     "output_type": "execute_result"
    }
   ],
   "source": [
    "bank_client.head()"
   ]
  },
  {
   "cell_type": "code",
   "execution_count": 13,
   "id": "33dbb027",
   "metadata": {
    "execution": {
     "iopub.execute_input": "2022-03-23T03:54:44.102641Z",
     "iopub.status.busy": "2022-03-23T03:54:44.102016Z",
     "iopub.status.idle": "2022-03-23T03:54:44.113315Z",
     "shell.execute_reply": "2022-03-23T03:54:44.113936Z",
     "shell.execute_reply.started": "2022-03-23T03:51:20.789239Z"
    },
    "papermill": {
     "duration": 0.069389,
     "end_time": "2022-03-23T03:54:44.114123",
     "exception": false,
     "start_time": "2022-03-23T03:54:44.044734",
     "status": "completed"
    },
    "tags": []
   },
   "outputs": [
    {
     "data": {
      "text/html": [
       "<div>\n",
       "<style scoped>\n",
       "    .dataframe tbody tr th:only-of-type {\n",
       "        vertical-align: middle;\n",
       "    }\n",
       "\n",
       "    .dataframe tbody tr th {\n",
       "        vertical-align: top;\n",
       "    }\n",
       "\n",
       "    .dataframe thead th {\n",
       "        text-align: right;\n",
       "    }\n",
       "</style>\n",
       "<table border=\"1\" class=\"dataframe\">\n",
       "  <thead>\n",
       "    <tr style=\"text-align: right;\">\n",
       "      <th></th>\n",
       "      <th>contact</th>\n",
       "      <th>month</th>\n",
       "      <th>day_of_week</th>\n",
       "      <th>duration</th>\n",
       "    </tr>\n",
       "  </thead>\n",
       "  <tbody>\n",
       "    <tr>\n",
       "      <th>0</th>\n",
       "      <td>telephone</td>\n",
       "      <td>may</td>\n",
       "      <td>mon</td>\n",
       "      <td>261</td>\n",
       "    </tr>\n",
       "    <tr>\n",
       "      <th>1</th>\n",
       "      <td>telephone</td>\n",
       "      <td>may</td>\n",
       "      <td>mon</td>\n",
       "      <td>149</td>\n",
       "    </tr>\n",
       "    <tr>\n",
       "      <th>2</th>\n",
       "      <td>telephone</td>\n",
       "      <td>may</td>\n",
       "      <td>mon</td>\n",
       "      <td>226</td>\n",
       "    </tr>\n",
       "    <tr>\n",
       "      <th>3</th>\n",
       "      <td>telephone</td>\n",
       "      <td>may</td>\n",
       "      <td>mon</td>\n",
       "      <td>151</td>\n",
       "    </tr>\n",
       "    <tr>\n",
       "      <th>4</th>\n",
       "      <td>telephone</td>\n",
       "      <td>may</td>\n",
       "      <td>mon</td>\n",
       "      <td>307</td>\n",
       "    </tr>\n",
       "  </tbody>\n",
       "</table>\n",
       "</div>"
      ],
      "text/plain": [
       "     contact month day_of_week  duration\n",
       "0  telephone   may         mon       261\n",
       "1  telephone   may         mon       149\n",
       "2  telephone   may         mon       226\n",
       "3  telephone   may         mon       151\n",
       "4  telephone   may         mon       307"
      ]
     },
     "execution_count": 13,
     "metadata": {},
     "output_type": "execute_result"
    }
   ],
   "source": [
    "# Related with the last contact of the current campaign\n",
    "# Slicing DataFrame to treat separately, make things more easy\n",
    "bank_related = bank.iloc[: , 7:11]\n",
    "bank_related.head()"
   ]
  },
  {
   "cell_type": "code",
   "execution_count": 14,
   "id": "c5e6c982",
   "metadata": {
    "execution": {
     "iopub.execute_input": "2022-03-23T03:54:44.228414Z",
     "iopub.status.busy": "2022-03-23T03:54:44.227724Z",
     "iopub.status.idle": "2022-03-23T03:54:44.270238Z",
     "shell.execute_reply": "2022-03-23T03:54:44.270799Z",
     "shell.execute_reply.started": "2022-03-23T03:51:20.813522Z"
    },
    "papermill": {
     "duration": 0.10103,
     "end_time": "2022-03-23T03:54:44.270980",
     "exception": false,
     "start_time": "2022-03-23T03:54:44.169950",
     "status": "completed"
    },
    "tags": []
   },
   "outputs": [],
   "source": [
    "# Label encoder order is alphabetical\n",
    "from sklearn.preprocessing import LabelEncoder\n",
    "labelencoder_X = LabelEncoder()\n",
    "bank_related['contact']     = labelencoder_X.fit_transform(bank_related['contact']) \n",
    "bank_related['month']       = labelencoder_X.fit_transform(bank_related['month']) \n",
    "bank_related['day_of_week'] = labelencoder_X.fit_transform(bank_related['day_of_week']) "
   ]
  },
  {
   "cell_type": "code",
   "execution_count": 15,
   "id": "59c1473c",
   "metadata": {
    "execution": {
     "iopub.execute_input": "2022-03-23T03:54:44.382598Z",
     "iopub.status.busy": "2022-03-23T03:54:44.381986Z",
     "iopub.status.idle": "2022-03-23T03:54:44.395454Z",
     "shell.execute_reply": "2022-03-23T03:54:44.396016Z",
     "shell.execute_reply.started": "2022-03-23T03:51:20.844692Z"
    },
    "papermill": {
     "duration": 0.070863,
     "end_time": "2022-03-23T03:54:44.396197",
     "exception": false,
     "start_time": "2022-03-23T03:54:44.325334",
     "status": "completed"
    },
    "tags": []
   },
   "outputs": [],
   "source": [
    "def duration(data):\n",
    "\n",
    "    data.loc[data['duration'] <= 102, 'duration'] = 1\n",
    "    data.loc[(data['duration'] > 102) & (data['duration'] <= 180)  , 'duration']    = 2\n",
    "    data.loc[(data['duration'] > 180) & (data['duration'] <= 319)  , 'duration']   = 3\n",
    "    data.loc[(data['duration'] > 319) & (data['duration'] <= 644.5), 'duration'] = 4\n",
    "    data.loc[data['duration']  > 644.5, 'duration'] = 5\n",
    "\n",
    "    return data\n",
    "duration(bank_related);"
   ]
  },
  {
   "cell_type": "code",
   "execution_count": 16,
   "id": "130cf2c1",
   "metadata": {
    "execution": {
     "iopub.execute_input": "2022-03-23T03:54:44.516263Z",
     "iopub.status.busy": "2022-03-23T03:54:44.515578Z",
     "iopub.status.idle": "2022-03-23T03:54:44.518770Z",
     "shell.execute_reply": "2022-03-23T03:54:44.519355Z",
     "shell.execute_reply.started": "2022-03-23T03:51:20.857910Z"
    },
    "papermill": {
     "duration": 0.067399,
     "end_time": "2022-03-23T03:54:44.519530",
     "exception": false,
     "start_time": "2022-03-23T03:54:44.452131",
     "status": "completed"
    },
    "tags": []
   },
   "outputs": [
    {
     "data": {
      "text/html": [
       "<div>\n",
       "<style scoped>\n",
       "    .dataframe tbody tr th:only-of-type {\n",
       "        vertical-align: middle;\n",
       "    }\n",
       "\n",
       "    .dataframe tbody tr th {\n",
       "        vertical-align: top;\n",
       "    }\n",
       "\n",
       "    .dataframe thead th {\n",
       "        text-align: right;\n",
       "    }\n",
       "</style>\n",
       "<table border=\"1\" class=\"dataframe\">\n",
       "  <thead>\n",
       "    <tr style=\"text-align: right;\">\n",
       "      <th></th>\n",
       "      <th>contact</th>\n",
       "      <th>month</th>\n",
       "      <th>day_of_week</th>\n",
       "      <th>duration</th>\n",
       "    </tr>\n",
       "  </thead>\n",
       "  <tbody>\n",
       "    <tr>\n",
       "      <th>0</th>\n",
       "      <td>1</td>\n",
       "      <td>6</td>\n",
       "      <td>1</td>\n",
       "      <td>3</td>\n",
       "    </tr>\n",
       "    <tr>\n",
       "      <th>1</th>\n",
       "      <td>1</td>\n",
       "      <td>6</td>\n",
       "      <td>1</td>\n",
       "      <td>2</td>\n",
       "    </tr>\n",
       "    <tr>\n",
       "      <th>2</th>\n",
       "      <td>1</td>\n",
       "      <td>6</td>\n",
       "      <td>1</td>\n",
       "      <td>3</td>\n",
       "    </tr>\n",
       "    <tr>\n",
       "      <th>3</th>\n",
       "      <td>1</td>\n",
       "      <td>6</td>\n",
       "      <td>1</td>\n",
       "      <td>2</td>\n",
       "    </tr>\n",
       "    <tr>\n",
       "      <th>4</th>\n",
       "      <td>1</td>\n",
       "      <td>6</td>\n",
       "      <td>1</td>\n",
       "      <td>3</td>\n",
       "    </tr>\n",
       "  </tbody>\n",
       "</table>\n",
       "</div>"
      ],
      "text/plain": [
       "   contact  month  day_of_week  duration\n",
       "0        1      6            1         3\n",
       "1        1      6            1         2\n",
       "2        1      6            1         3\n",
       "3        1      6            1         2\n",
       "4        1      6            1         3"
      ]
     },
     "execution_count": 16,
     "metadata": {},
     "output_type": "execute_result"
    }
   ],
   "source": [
    "bank_related.head()"
   ]
  },
  {
   "cell_type": "code",
   "execution_count": 17,
   "id": "8a6f47a6",
   "metadata": {
    "execution": {
     "iopub.execute_input": "2022-03-23T03:54:44.645770Z",
     "iopub.status.busy": "2022-03-23T03:54:44.645088Z",
     "iopub.status.idle": "2022-03-23T03:54:44.647707Z",
     "shell.execute_reply": "2022-03-23T03:54:44.648184Z",
     "shell.execute_reply.started": "2022-03-23T03:51:20.874373Z"
    },
    "papermill": {
     "duration": 0.073565,
     "end_time": "2022-03-23T03:54:44.648367",
     "exception": false,
     "start_time": "2022-03-23T03:54:44.574802",
     "status": "completed"
    },
    "tags": []
   },
   "outputs": [
    {
     "data": {
      "text/html": [
       "<div>\n",
       "<style scoped>\n",
       "    .dataframe tbody tr th:only-of-type {\n",
       "        vertical-align: middle;\n",
       "    }\n",
       "\n",
       "    .dataframe tbody tr th {\n",
       "        vertical-align: top;\n",
       "    }\n",
       "\n",
       "    .dataframe thead th {\n",
       "        text-align: right;\n",
       "    }\n",
       "</style>\n",
       "<table border=\"1\" class=\"dataframe\">\n",
       "  <thead>\n",
       "    <tr style=\"text-align: right;\">\n",
       "      <th></th>\n",
       "      <th>emp.var.rate</th>\n",
       "      <th>cons.price.idx</th>\n",
       "      <th>cons.conf.idx</th>\n",
       "      <th>euribor3m</th>\n",
       "      <th>nr.employed</th>\n",
       "    </tr>\n",
       "  </thead>\n",
       "  <tbody>\n",
       "    <tr>\n",
       "      <th>0</th>\n",
       "      <td>1.1</td>\n",
       "      <td>93.994</td>\n",
       "      <td>-36.4</td>\n",
       "      <td>4.857</td>\n",
       "      <td>5191.0</td>\n",
       "    </tr>\n",
       "    <tr>\n",
       "      <th>1</th>\n",
       "      <td>1.1</td>\n",
       "      <td>93.994</td>\n",
       "      <td>-36.4</td>\n",
       "      <td>4.857</td>\n",
       "      <td>5191.0</td>\n",
       "    </tr>\n",
       "    <tr>\n",
       "      <th>2</th>\n",
       "      <td>1.1</td>\n",
       "      <td>93.994</td>\n",
       "      <td>-36.4</td>\n",
       "      <td>4.857</td>\n",
       "      <td>5191.0</td>\n",
       "    </tr>\n",
       "    <tr>\n",
       "      <th>3</th>\n",
       "      <td>1.1</td>\n",
       "      <td>93.994</td>\n",
       "      <td>-36.4</td>\n",
       "      <td>4.857</td>\n",
       "      <td>5191.0</td>\n",
       "    </tr>\n",
       "    <tr>\n",
       "      <th>4</th>\n",
       "      <td>1.1</td>\n",
       "      <td>93.994</td>\n",
       "      <td>-36.4</td>\n",
       "      <td>4.857</td>\n",
       "      <td>5191.0</td>\n",
       "    </tr>\n",
       "  </tbody>\n",
       "</table>\n",
       "</div>"
      ],
      "text/plain": [
       "   emp.var.rate  cons.price.idx  cons.conf.idx  euribor3m  nr.employed\n",
       "0           1.1          93.994          -36.4      4.857       5191.0\n",
       "1           1.1          93.994          -36.4      4.857       5191.0\n",
       "2           1.1          93.994          -36.4      4.857       5191.0\n",
       "3           1.1          93.994          -36.4      4.857       5191.0\n",
       "4           1.1          93.994          -36.4      4.857       5191.0"
      ]
     },
     "execution_count": 17,
     "metadata": {},
     "output_type": "execute_result"
    }
   ],
   "source": [
    "#Social and economic context attributes\n",
    "bank_se = bank.loc[: , ['emp.var.rate', 'cons.price.idx', 'cons.conf.idx', 'euribor3m', 'nr.employed']]\n",
    "bank_se.head()"
   ]
  },
  {
   "cell_type": "code",
   "execution_count": 18,
   "id": "5a0d53c1",
   "metadata": {
    "execution": {
     "iopub.execute_input": "2022-03-23T03:54:44.762612Z",
     "iopub.status.busy": "2022-03-23T03:54:44.761936Z",
     "iopub.status.idle": "2022-03-23T03:54:44.773719Z",
     "shell.execute_reply": "2022-03-23T03:54:44.774332Z",
     "shell.execute_reply.started": "2022-03-23T03:51:20.896653Z"
    },
    "papermill": {
     "duration": 0.070596,
     "end_time": "2022-03-23T03:54:44.774511",
     "exception": false,
     "start_time": "2022-03-23T03:54:44.703915",
     "status": "completed"
    },
    "tags": []
   },
   "outputs": [
    {
     "data": {
      "text/html": [
       "<div>\n",
       "<style scoped>\n",
       "    .dataframe tbody tr th:only-of-type {\n",
       "        vertical-align: middle;\n",
       "    }\n",
       "\n",
       "    .dataframe tbody tr th {\n",
       "        vertical-align: top;\n",
       "    }\n",
       "\n",
       "    .dataframe thead th {\n",
       "        text-align: right;\n",
       "    }\n",
       "</style>\n",
       "<table border=\"1\" class=\"dataframe\">\n",
       "  <thead>\n",
       "    <tr style=\"text-align: right;\">\n",
       "      <th></th>\n",
       "      <th>campaign</th>\n",
       "      <th>pdays</th>\n",
       "      <th>previous</th>\n",
       "      <th>poutcome</th>\n",
       "    </tr>\n",
       "  </thead>\n",
       "  <tbody>\n",
       "    <tr>\n",
       "      <th>0</th>\n",
       "      <td>1</td>\n",
       "      <td>999</td>\n",
       "      <td>0</td>\n",
       "      <td>nonexistent</td>\n",
       "    </tr>\n",
       "    <tr>\n",
       "      <th>1</th>\n",
       "      <td>1</td>\n",
       "      <td>999</td>\n",
       "      <td>0</td>\n",
       "      <td>nonexistent</td>\n",
       "    </tr>\n",
       "    <tr>\n",
       "      <th>2</th>\n",
       "      <td>1</td>\n",
       "      <td>999</td>\n",
       "      <td>0</td>\n",
       "      <td>nonexistent</td>\n",
       "    </tr>\n",
       "    <tr>\n",
       "      <th>3</th>\n",
       "      <td>1</td>\n",
       "      <td>999</td>\n",
       "      <td>0</td>\n",
       "      <td>nonexistent</td>\n",
       "    </tr>\n",
       "    <tr>\n",
       "      <th>4</th>\n",
       "      <td>1</td>\n",
       "      <td>999</td>\n",
       "      <td>0</td>\n",
       "      <td>nonexistent</td>\n",
       "    </tr>\n",
       "  </tbody>\n",
       "</table>\n",
       "</div>"
      ],
      "text/plain": [
       "   campaign  pdays  previous     poutcome\n",
       "0         1    999         0  nonexistent\n",
       "1         1    999         0  nonexistent\n",
       "2         1    999         0  nonexistent\n",
       "3         1    999         0  nonexistent\n",
       "4         1    999         0  nonexistent"
      ]
     },
     "execution_count": 18,
     "metadata": {},
     "output_type": "execute_result"
    }
   ],
   "source": [
    "#other attributes\n",
    "bank_o = bank.loc[: , ['campaign', 'pdays','previous', 'poutcome']]\n",
    "bank_o.head()"
   ]
  },
  {
   "cell_type": "code",
   "execution_count": 19,
   "id": "a29a1d80",
   "metadata": {
    "execution": {
     "iopub.execute_input": "2022-03-23T03:54:44.894395Z",
     "iopub.status.busy": "2022-03-23T03:54:44.893407Z",
     "iopub.status.idle": "2022-03-23T03:54:44.927860Z",
     "shell.execute_reply": "2022-03-23T03:54:44.927307Z",
     "shell.execute_reply.started": "2022-03-23T03:51:20.917272Z"
    },
    "papermill": {
     "duration": 0.095161,
     "end_time": "2022-03-23T03:54:44.928008",
     "exception": false,
     "start_time": "2022-03-23T03:54:44.832847",
     "status": "completed"
    },
    "tags": []
   },
   "outputs": [],
   "source": [
    "bank_o['poutcome'].replace(['nonexistent', 'failure', 'success'], [1,2,3], inplace  = True)"
   ]
  },
  {
   "cell_type": "code",
   "execution_count": 20,
   "id": "dfccb50a",
   "metadata": {
    "execution": {
     "iopub.execute_input": "2022-03-23T03:54:45.047278Z",
     "iopub.status.busy": "2022-03-23T03:54:45.046358Z",
     "iopub.status.idle": "2022-03-23T03:54:45.069056Z",
     "shell.execute_reply": "2022-03-23T03:54:45.069610Z",
     "shell.execute_reply.started": "2022-03-23T03:51:20.939066Z"
    },
    "papermill": {
     "duration": 0.084957,
     "end_time": "2022-03-23T03:54:45.069779",
     "exception": false,
     "start_time": "2022-03-23T03:54:44.984822",
     "status": "completed"
    },
    "tags": []
   },
   "outputs": [
    {
     "data": {
      "text/plain": [
       "(41188, 20)"
      ]
     },
     "execution_count": 20,
     "metadata": {},
     "output_type": "execute_result"
    }
   ],
   "source": [
    "bank_final= pd.concat([bank_client, bank_related, bank_se, bank_o], axis = 1)\n",
    "bank_final = bank_final[['age', 'job', 'marital', 'education', 'default', 'housing', 'loan',\n",
    "                     'contact', 'month', 'day_of_week', 'duration', 'emp.var.rate', 'cons.price.idx', \n",
    "                     'cons.conf.idx', 'euribor3m', 'nr.employed', 'campaign', 'pdays', 'previous', 'poutcome']]\n",
    "bank_final.shape"
   ]
  },
  {
   "cell_type": "code",
   "execution_count": 21,
   "id": "520fad96",
   "metadata": {
    "execution": {
     "iopub.execute_input": "2022-03-23T03:54:45.191162Z",
     "iopub.status.busy": "2022-03-23T03:54:45.190063Z",
     "iopub.status.idle": "2022-03-23T03:54:45.206446Z",
     "shell.execute_reply": "2022-03-23T03:54:45.207025Z",
     "shell.execute_reply.started": "2022-03-23T03:51:20.962574Z"
    },
    "papermill": {
     "duration": 0.079181,
     "end_time": "2022-03-23T03:54:45.207203",
     "exception": false,
     "start_time": "2022-03-23T03:54:45.128022",
     "status": "completed"
    },
    "tags": []
   },
   "outputs": [],
   "source": [
    "#IMBALANCED DATASET FIX\n",
    "bank_final1 = pd.concat([bank_final, y], axis = 1)\n",
    "df_majority = bank_final1[bank_final1['yes'] == 0]\n",
    "df_minority = bank_final1[bank_final1['yes'] == 1]\n",
    "\n"
   ]
  },
  {
   "cell_type": "code",
   "execution_count": 22,
   "id": "86104f60",
   "metadata": {
    "execution": {
     "iopub.execute_input": "2022-03-23T03:54:45.329610Z",
     "iopub.status.busy": "2022-03-23T03:54:45.328912Z",
     "iopub.status.idle": "2022-03-23T03:54:45.332882Z",
     "shell.execute_reply": "2022-03-23T03:54:45.333431Z",
     "shell.execute_reply.started": "2022-03-23T03:51:20.982359Z"
    },
    "papermill": {
     "duration": 0.067747,
     "end_time": "2022-03-23T03:54:45.333613",
     "exception": false,
     "start_time": "2022-03-23T03:54:45.265866",
     "status": "completed"
    },
    "tags": []
   },
   "outputs": [],
   "source": [
    "#IMBALANCED DATASET FIX\n",
    "df_minority_upsampled = resample(df_minority, \n",
    "                                 replace=True,    \n",
    "                                 n_samples= int(4640*2),    \n",
    "                                 random_state=123) "
   ]
  },
  {
   "cell_type": "code",
   "execution_count": 23,
   "id": "e214ad99",
   "metadata": {
    "execution": {
     "iopub.execute_input": "2022-03-23T03:54:45.456760Z",
     "iopub.status.busy": "2022-03-23T03:54:45.451114Z",
     "iopub.status.idle": "2022-03-23T03:54:45.464750Z",
     "shell.execute_reply": "2022-03-23T03:54:45.464087Z",
     "shell.execute_reply.started": "2022-03-23T03:51:20.989923Z"
    },
    "papermill": {
     "duration": 0.074123,
     "end_time": "2022-03-23T03:54:45.464903",
     "exception": false,
     "start_time": "2022-03-23T03:54:45.390780",
     "status": "completed"
    },
    "tags": []
   },
   "outputs": [],
   "source": [
    "#IMBALANCED DATASET FIX\n",
    "df_upsampled = pd.concat([df_majority, df_minority_upsampled])\n",
    "y_new = df_upsampled['yes']"
   ]
  },
  {
   "cell_type": "code",
   "execution_count": 24,
   "id": "8c7f8ced",
   "metadata": {
    "execution": {
     "iopub.execute_input": "2022-03-23T03:54:45.585999Z",
     "iopub.status.busy": "2022-03-23T03:54:45.585382Z",
     "iopub.status.idle": "2022-03-23T03:54:45.610399Z",
     "shell.execute_reply": "2022-03-23T03:54:45.609766Z",
     "shell.execute_reply.started": "2022-03-23T03:51:21.010332Z"
    },
    "papermill": {
     "duration": 0.087844,
     "end_time": "2022-03-23T03:54:45.610561",
     "exception": false,
     "start_time": "2022-03-23T03:54:45.522717",
     "status": "completed"
    },
    "tags": []
   },
   "outputs": [],
   "source": [
    "#5.2. Train Test DATASET FIX\n",
    "X_train, X_test, y_train, y_test = train_test_split(df_upsampled.drop('yes', axis = 1), y_new, test_size = 0.1942313295, random_state = 101)\n",
    "k_fold = KFold(n_splits=10, shuffle=True, random_state=0)"
   ]
  },
  {
   "cell_type": "code",
   "execution_count": 25,
   "id": "acd40905",
   "metadata": {
    "execution": {
     "iopub.execute_input": "2022-03-23T03:54:45.729252Z",
     "iopub.status.busy": "2022-03-23T03:54:45.728641Z",
     "iopub.status.idle": "2022-03-23T03:54:45.732394Z",
     "shell.execute_reply": "2022-03-23T03:54:45.732842Z",
     "shell.execute_reply.started": "2022-03-23T03:51:21.037245Z"
    },
    "papermill": {
     "duration": 0.06521,
     "end_time": "2022-03-23T03:54:45.733012",
     "exception": false,
     "start_time": "2022-03-23T03:54:45.667802",
     "status": "completed"
    },
    "tags": []
   },
   "outputs": [
    {
     "data": {
      "text/plain": [
       "8902"
      ]
     },
     "execution_count": 25,
     "metadata": {},
     "output_type": "execute_result"
    }
   ],
   "source": [
    "len(X_test)"
   ]
  },
  {
   "cell_type": "code",
   "execution_count": 26,
   "id": "ca4c07e6",
   "metadata": {
    "execution": {
     "iopub.execute_input": "2022-03-23T03:54:45.852316Z",
     "iopub.status.busy": "2022-03-23T03:54:45.851640Z",
     "iopub.status.idle": "2022-03-23T03:54:45.855191Z",
     "shell.execute_reply": "2022-03-23T03:54:45.855642Z",
     "shell.execute_reply.started": "2022-03-23T03:51:21.043448Z"
    },
    "papermill": {
     "duration": 0.066039,
     "end_time": "2022-03-23T03:54:45.855847",
     "exception": false,
     "start_time": "2022-03-23T03:54:45.789808",
     "status": "completed"
    },
    "tags": []
   },
   "outputs": [
    {
     "data": {
      "text/plain": [
       "36926"
      ]
     },
     "execution_count": 26,
     "metadata": {},
     "output_type": "execute_result"
    }
   ],
   "source": [
    "len(X_train)"
   ]
  },
  {
   "cell_type": "markdown",
   "id": "3079b236",
   "metadata": {
    "papermill": {
     "duration": 0.057631,
     "end_time": "2022-03-23T03:54:45.971766",
     "exception": false,
     "start_time": "2022-03-23T03:54:45.914135",
     "status": "completed"
    },
    "tags": []
   },
   "source": [
    "# Decision tree Prediction Model"
   ]
  },
  {
   "cell_type": "code",
   "execution_count": 27,
   "id": "9e1d043a",
   "metadata": {
    "execution": {
     "iopub.execute_input": "2022-03-23T03:54:46.097209Z",
     "iopub.status.busy": "2022-03-23T03:54:46.096507Z",
     "iopub.status.idle": "2022-03-23T03:54:46.099024Z",
     "shell.execute_reply": "2022-03-23T03:54:46.098461Z",
     "shell.execute_reply.started": "2022-03-23T03:51:21.058830Z"
    },
    "papermill": {
     "duration": 0.069264,
     "end_time": "2022-03-23T03:54:46.099165",
     "exception": false,
     "start_time": "2022-03-23T03:54:46.029901",
     "status": "completed"
    },
    "tags": []
   },
   "outputs": [],
   "source": [
    "from sklearn import tree\n",
    "model = tree.DecisionTreeClassifier()\n"
   ]
  },
  {
   "cell_type": "code",
   "execution_count": 28,
   "id": "970a9fbc",
   "metadata": {
    "execution": {
     "iopub.execute_input": "2022-03-23T03:54:46.222191Z",
     "iopub.status.busy": "2022-03-23T03:54:46.221547Z",
     "iopub.status.idle": "2022-03-23T03:54:46.372098Z",
     "shell.execute_reply": "2022-03-23T03:54:46.372728Z",
     "shell.execute_reply.started": "2022-03-23T03:51:21.077616Z"
    },
    "papermill": {
     "duration": 0.215324,
     "end_time": "2022-03-23T03:54:46.372962",
     "exception": false,
     "start_time": "2022-03-23T03:54:46.157638",
     "status": "completed"
    },
    "tags": []
   },
   "outputs": [
    {
     "data": {
      "text/plain": [
       "DecisionTreeClassifier()"
      ]
     },
     "execution_count": 28,
     "metadata": {},
     "output_type": "execute_result"
    }
   ],
   "source": [
    "model.fit(X_train,y_train)"
   ]
  },
  {
   "cell_type": "code",
   "execution_count": 29,
   "id": "b68f7ab5",
   "metadata": {
    "execution": {
     "iopub.execute_input": "2022-03-23T03:54:46.500219Z",
     "iopub.status.busy": "2022-03-23T03:54:46.499255Z",
     "iopub.status.idle": "2022-03-23T03:54:46.507789Z",
     "shell.execute_reply": "2022-03-23T03:54:46.507178Z",
     "shell.execute_reply.started": "2022-03-23T03:51:21.235898Z"
    },
    "papermill": {
     "duration": 0.074899,
     "end_time": "2022-03-23T03:54:46.507935",
     "exception": false,
     "start_time": "2022-03-23T03:54:46.433036",
     "status": "completed"
    },
    "tags": []
   },
   "outputs": [
    {
     "data": {
      "text/plain": [
       "0.9263086946753538"
      ]
     },
     "execution_count": 29,
     "metadata": {},
     "output_type": "execute_result"
    }
   ],
   "source": [
    "model.score(X_test,y_test)"
   ]
  },
  {
   "cell_type": "markdown",
   "id": "ef7c5ee8",
   "metadata": {
    "papermill": {
     "duration": 0.059064,
     "end_time": "2022-03-23T03:54:46.626019",
     "exception": false,
     "start_time": "2022-03-23T03:54:46.566955",
     "status": "completed"
    },
    "tags": []
   },
   "source": [
    "# RandomForest Classifier"
   ]
  },
  {
   "cell_type": "code",
   "execution_count": 30,
   "id": "37a09d50",
   "metadata": {
    "execution": {
     "iopub.execute_input": "2022-03-23T03:54:46.753782Z",
     "iopub.status.busy": "2022-03-23T03:54:46.752594Z",
     "iopub.status.idle": "2022-03-23T03:55:14.304893Z",
     "shell.execute_reply": "2022-03-23T03:55:14.304260Z",
     "shell.execute_reply.started": "2022-03-23T03:51:21.252199Z"
    },
    "papermill": {
     "duration": 27.619639,
     "end_time": "2022-03-23T03:55:14.305083",
     "exception": false,
     "start_time": "2022-03-23T03:54:46.685444",
     "status": "completed"
    },
    "tags": []
   },
   "outputs": [],
   "source": [
    "\n",
    "#Note: Why ensemble? ensemble is a term used when you are using multiple algorithms to predict the outcomes ( we are building multiple decision trees and taking majority vote)\n",
    "\n",
    "from sklearn.ensemble import RandomForestClassifier\n",
    "rfc = RandomForestClassifier(n_estimators = 200, n_jobs=2, random_state = 12)#criterion = entopy,gini\n",
    "rfc.fit(X_train, y_train)\n",
    "rfcpred = rfc.predict(X_test)\n",
    "RFCCV = (cross_val_score(rfc, X_train, y_train, cv=k_fold, n_jobs=2, scoring = 'accuracy').mean())"
   ]
  },
  {
   "cell_type": "code",
   "execution_count": 31,
   "id": "face92c3",
   "metadata": {
    "execution": {
     "iopub.execute_input": "2022-03-23T03:55:14.427705Z",
     "iopub.status.busy": "2022-03-23T03:55:14.427034Z",
     "iopub.status.idle": "2022-03-23T03:55:14.439630Z",
     "shell.execute_reply": "2022-03-23T03:55:14.440169Z",
     "shell.execute_reply.started": "2022-03-23T03:51:47.857464Z"
    },
    "papermill": {
     "duration": 0.076629,
     "end_time": "2022-03-23T03:55:14.440365",
     "exception": false,
     "start_time": "2022-03-23T03:55:14.363736",
     "status": "completed"
    },
    "tags": []
   },
   "outputs": [
    {
     "data": {
      "text/html": [
       "<div>\n",
       "<style scoped>\n",
       "    .dataframe tbody tr th:only-of-type {\n",
       "        vertical-align: middle;\n",
       "    }\n",
       "\n",
       "    .dataframe tbody tr th {\n",
       "        vertical-align: top;\n",
       "    }\n",
       "\n",
       "    .dataframe thead th {\n",
       "        text-align: right;\n",
       "    }\n",
       "</style>\n",
       "<table border=\"1\" class=\"dataframe\">\n",
       "  <thead>\n",
       "    <tr style=\"text-align: right;\">\n",
       "      <th></th>\n",
       "      <th>Models</th>\n",
       "      <th>Score</th>\n",
       "    </tr>\n",
       "  </thead>\n",
       "  <tbody>\n",
       "    <tr>\n",
       "      <th>0</th>\n",
       "      <td>Random Forest Classifier</td>\n",
       "      <td>0.937822</td>\n",
       "    </tr>\n",
       "  </tbody>\n",
       "</table>\n",
       "</div>"
      ],
      "text/plain": [
       "                     Models     Score\n",
       "0  Random Forest Classifier  0.937822"
      ]
     },
     "execution_count": 31,
     "metadata": {},
     "output_type": "execute_result"
    }
   ],
   "source": [
    "models = pd.DataFrame({\n",
    "                'Models': ['Random Forest Classifier'],\n",
    "                'Score':  [RFCCV]})\n",
    "\n",
    "models.sort_values(by='Score', ascending=False)"
   ]
  },
  {
   "cell_type": "code",
   "execution_count": 32,
   "id": "5365b4e1",
   "metadata": {
    "execution": {
     "iopub.execute_input": "2022-03-23T03:55:14.564078Z",
     "iopub.status.busy": "2022-03-23T03:55:14.563443Z",
     "iopub.status.idle": "2022-03-23T03:55:14.877107Z",
     "shell.execute_reply": "2022-03-23T03:55:14.876556Z",
     "shell.execute_reply.started": "2022-03-23T03:51:47.872594Z"
    },
    "papermill": {
     "duration": 0.377305,
     "end_time": "2022-03-23T03:55:14.877247",
     "exception": false,
     "start_time": "2022-03-23T03:55:14.499942",
     "status": "completed"
    },
    "tags": []
   },
   "outputs": [
    {
     "data": {
      "text/plain": [
       "0.9392271399685463"
      ]
     },
     "execution_count": 32,
     "metadata": {},
     "output_type": "execute_result"
    }
   ],
   "source": [
    "rfc.score(X_test, y_test)"
   ]
  },
  {
   "cell_type": "code",
   "execution_count": 33,
   "id": "fa8686ea",
   "metadata": {
    "execution": {
     "iopub.execute_input": "2022-03-23T03:55:15.004508Z",
     "iopub.status.busy": "2022-03-23T03:55:15.003347Z",
     "iopub.status.idle": "2022-03-23T03:55:15.309583Z",
     "shell.execute_reply": "2022-03-23T03:55:15.308849Z",
     "shell.execute_reply.started": "2022-03-23T03:51:48.193042Z"
    },
    "papermill": {
     "duration": 0.372751,
     "end_time": "2022-03-23T03:55:15.309732",
     "exception": false,
     "start_time": "2022-03-23T03:55:14.936981",
     "status": "completed"
    },
    "tags": []
   },
   "outputs": [],
   "source": [
    "y_predicted = rfc.predict(X_test)"
   ]
  },
  {
   "cell_type": "code",
   "execution_count": 34,
   "id": "1a46c470",
   "metadata": {
    "execution": {
     "iopub.execute_input": "2022-03-23T03:55:15.434751Z",
     "iopub.status.busy": "2022-03-23T03:55:15.433740Z",
     "iopub.status.idle": "2022-03-23T03:55:15.445124Z",
     "shell.execute_reply": "2022-03-23T03:55:15.445765Z",
     "shell.execute_reply.started": "2022-03-23T03:51:48.503379Z"
    },
    "papermill": {
     "duration": 0.076814,
     "end_time": "2022-03-23T03:55:15.445938",
     "exception": false,
     "start_time": "2022-03-23T03:55:15.369124",
     "status": "completed"
    },
    "tags": []
   },
   "outputs": [
    {
     "data": {
      "text/plain": [
       "array([[6737,  367],\n",
       "       [ 174, 1624]])"
      ]
     },
     "execution_count": 34,
     "metadata": {},
     "output_type": "execute_result"
    }
   ],
   "source": [
    "from sklearn.metrics import confusion_matrix\n",
    "cm = confusion_matrix(y_test, y_predicted)\n",
    "cm"
   ]
  },
  {
   "cell_type": "code",
   "execution_count": 35,
   "id": "d0efe00c",
   "metadata": {
    "execution": {
     "iopub.execute_input": "2022-03-23T03:55:15.569866Z",
     "iopub.status.busy": "2022-03-23T03:55:15.568857Z",
     "iopub.status.idle": "2022-03-23T03:55:15.987904Z",
     "shell.execute_reply": "2022-03-23T03:55:15.988439Z",
     "shell.execute_reply.started": "2022-03-23T03:51:48.516249Z"
    },
    "papermill": {
     "duration": 0.482334,
     "end_time": "2022-03-23T03:55:15.988609",
     "exception": false,
     "start_time": "2022-03-23T03:55:15.506275",
     "status": "completed"
    },
    "tags": []
   },
   "outputs": [
    {
     "data": {
      "text/plain": [
       "Text(58.5, 0.5, 'Truth')"
      ]
     },
     "execution_count": 35,
     "metadata": {},
     "output_type": "execute_result"
    },
    {
     "data": {
      "image/png": "[encoded data removed]",
      "text/plain": [
       "<Figure size 720x504 with 2 Axes>"
      ]
     },
     "metadata": {},
     "output_type": "display_data"
    }
   ],
   "source": [
    "plt.figure(figsize=(10,7))\n",
    "sns.heatmap(cm, annot=True)\n",
    "plt.xlabel('Predicted')\n",
    "plt.ylabel('Truth')"
   ]
  },
  {
   "cell_type": "code",
   "execution_count": 36,
   "id": "20c7edd9",
   "metadata": {
    "execution": {
     "iopub.execute_input": "2022-03-23T03:55:16.116578Z",
     "iopub.status.busy": "2022-03-23T03:55:16.115543Z",
     "iopub.status.idle": "2022-03-23T03:55:16.121939Z",
     "shell.execute_reply": "2022-03-23T03:55:16.122797Z",
     "shell.execute_reply.started": "2022-03-23T03:51:48.922154Z"
    },
    "papermill": {
     "duration": 0.072493,
     "end_time": "2022-03-23T03:55:16.123018",
     "exception": false,
     "start_time": "2022-03-23T03:55:16.050525",
     "status": "completed"
    },
    "tags": []
   },
   "outputs": [
    {
     "name": "stdout",
     "output_type": "stream",
     "text": [
      "Precision 0 :  0.97\n"
     ]
    }
   ],
   "source": [
    "# Precision 0 \n",
    "print('Precision 0 : ',round(6739 / (6739 + 175),2))"
   ]
  },
  {
   "cell_type": "markdown",
   "id": "90617c43",
   "metadata": {
    "papermill": {
     "duration": 0.061112,
     "end_time": "2022-03-23T03:55:16.246119",
     "exception": false,
     "start_time": "2022-03-23T03:55:16.185007",
     "status": "completed"
    },
    "tags": []
   },
   "source": [
    "# Analysis for Negative (0)\n",
    "For all NEGATIVE(0) PREDICTIONS by our model, how much we predict correct ?\n",
    "\n",
    "other way to understand, our model pointed 6739 + 175 = 6914 clients that didin't subscribe(0), and our model predict 97% correct or 6739 correct and 175 incorrect"
   ]
  },
  {
   "cell_type": "code",
   "execution_count": 37,
   "id": "722139ba",
   "metadata": {
    "execution": {
     "iopub.execute_input": "2022-03-23T03:55:16.378800Z",
     "iopub.status.busy": "2022-03-23T03:55:16.377998Z",
     "iopub.status.idle": "2022-03-23T03:55:16.381126Z",
     "shell.execute_reply": "2022-03-23T03:55:16.381842Z",
     "shell.execute_reply.started": "2022-03-23T03:51:48.928457Z"
    },
    "papermill": {
     "duration": 0.07342,
     "end_time": "2022-03-23T03:55:16.382072",
     "exception": false,
     "start_time": "2022-03-23T03:55:16.308652",
     "status": "completed"
    },
    "tags": []
   },
   "outputs": [
    {
     "name": "stdout",
     "output_type": "stream",
     "text": [
      "Precision 1 :  0.82\n"
     ]
    }
   ],
   "source": [
    "print('Precision 1 : ',round(1623 / (1623 + 365),2))"
   ]
  },
  {
   "cell_type": "markdown",
   "id": "9a729172",
   "metadata": {
    "papermill": {
     "duration": 0.061892,
     "end_time": "2022-03-23T03:55:16.507678",
     "exception": false,
     "start_time": "2022-03-23T03:55:16.445786",
     "status": "completed"
    },
    "tags": []
   },
   "source": [
    "# Analysis For Positive (1)\n",
    "For all POSITIVE(1) PREDICTIONS by our model, how much we predict correct ?\n",
    "\n",
    "other way to understand, our model pointed 365 + 1623 = 1988 clients that subscribe(1), and our model predict 82% correct or 253 correct and 116 incorrect"
   ]
  },
  {
   "cell_type": "code",
   "execution_count": 38,
   "id": "33adedb4",
   "metadata": {
    "execution": {
     "iopub.execute_input": "2022-03-23T03:55:16.643665Z",
     "iopub.status.busy": "2022-03-23T03:55:16.642602Z",
     "iopub.status.idle": "2022-03-23T03:55:17.257528Z",
     "shell.execute_reply": "2022-03-23T03:55:17.258061Z",
     "shell.execute_reply.started": "2022-03-23T03:51:48.939906Z"
    },
    "papermill": {
     "duration": 0.687372,
     "end_time": "2022-03-23T03:55:17.258231",
     "exception": false,
     "start_time": "2022-03-23T03:55:16.570859",
     "status": "completed"
    },
    "tags": []
   },
   "outputs": [
    {
     "data": {
      "image/png": "[encoded data removed]",
      "text/plain": [
       "<Figure size 432x432 with 1 Axes>"
      ]
     },
     "metadata": {},
     "output_type": "display_data"
    }
   ],
   "source": [
    "from sklearn import metrics\n",
    "fig, ax = plt.subplots(figsize = (6,6))\n",
    "probs = rfc.predict_proba(X_test)\n",
    "preds = probs[:,1]\n",
    "fprrfc, tprrfc, thresholdrfc = metrics.roc_curve(y_test, preds)\n",
    "roc_aucrfc = metrics.auc(fprrfc, tprrfc)\n",
    "\n",
    "ax.plot(fprrfc, tprrfc, 'b', label = 'AUC = %0.2f' % roc_aucrfc)\n",
    "ax.plot([0, 1], [0, 1],'r--')\n",
    "ax.set_title('Receiver Operating Characteristic Random Forest for Bank Marketing dataset ',fontsize=20)\n",
    "ax.set_ylabel('True Positive Rate',fontsize=20)\n",
    "ax.set_xlabel('False Positive Rate',fontsize=15)\n",
    "ax.legend(loc = 'lower right', prop={'size': 16})\n",
    "\n",
    "plt.subplots_adjust(wspace=1)"
   ]
  },
  {
   "cell_type": "markdown",
   "id": "a22d1b1f",
   "metadata": {
    "papermill": {
     "duration": 0.06459,
     "end_time": "2022-03-23T03:55:17.388653",
     "exception": false,
     "start_time": "2022-03-23T03:55:17.324063",
     "status": "completed"
    },
    "tags": []
   },
   "source": [
    "# Comparing the experience of conducting the analyses between Excel BTA 350 and Python BTA 319\n",
    "\n",
    "Both Excel and Python have their place with certain applications. Excel is a great entry-level tool and is a quick-and-easy way to analyse a dataset.\n",
    "However I find Python efficient and scalable when it comes to large dataset like this marketing one compare to Excel. It's faster than Excel for data pipelines, automation and calculating complex equations and algorithms. In Excel I found it diffcult to handle this large dataset to analysis and dive deeper into the data I user Power BI to get rich information about the data verse python is way easier to load the data and with the very few lines of codes I can understand the data and clean the data faster then Excel.Python collaborate with other libraraies and packages very well to put finding into the visualizes and advance analytics and for prediction like Machine learning. On top of that Python is free!I believe and experienced that in technology era, with large datasets and more complex analytics and automation, Python provides the tools, techniques and processing power that Excel, in many instances, lacks. After all, Python is more powerful, faster, capable of better data analysis and it benefits from a more inclusive, collaborative support system."
   ]
  }
 ],
 "metadata": {
  "kernelspec": {
   "display_name": "Python 3",
   "language": "python",
   "name": "python3"
  },
  "language_info": {
   "codemirror_mode": {
    "name": "ipython",
    "version": 3
   },
   "file_extension": ".py",
   "mimetype": "text/x-python",
   "name": "python",
   "nbconvert_exporter": "python",
   "pygments_lexer": "ipython3",
   "version": "3.7.12"
  },
  "papermill": {
   "default_parameters": {},
   "duration": 49.956854,
   "end_time": "2022-03-23T03:55:18.465628",
   "environment_variables": {},
   "exception": null,
   "input_path": "__notebook__.ipynb",
   "output_path": "__notebook__.ipynb",
   "parameters": {},
   "start_time": "2022-03-23T03:54:28.508774",
   "version": "2.3.3"
  }
 },
 "nbformat": 4,
 "nbformat_minor": 5
}
